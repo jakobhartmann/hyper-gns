{
 "cells": [
  {
   "attachments": {},
   "cell_type": "markdown",
   "metadata": {},
   "source": [
    "### Plot Training Loss"
   ]
  },
  {
   "cell_type": "code",
   "execution_count": null,
   "metadata": {},
   "outputs": [],
   "source": [
    "import pickle\n",
    "import matplotlib.pyplot as plt\n",
    "\n",
    "train_loss_file = '/data/train_loss-10000.pkl'\n",
    "with open(train_loss_file, 'rb') as f:\n",
    "    train_loss = pickle.load(f)\n",
    "\n",
    "train_loss_cpu = {key: value.cpu().detach() for key, value in train_loss.items()}\n",
    "\n",
    "plt.plot(train_loss_cpu.keys(), train_loss_cpu.values())\n",
    "plt.ylim(bottom = 0, top = 2.5)\n",
    "plt.show()"
   ]
  }
 ],
 "metadata": {
  "kernelspec": {
   "display_name": "Python 3",
   "language": "python",
   "name": "python3"
  },
  "language_info": {
   "name": "python",
   "version": "3.10.9"
  },
  "orig_nbformat": 4,
  "vscode": {
   "interpreter": {
    "hash": "aee8b7b246df8f9039afb4144a1f6fd8d2ca17a180786b69acc140d282b71a49"
   }
  }
 },
 "nbformat": 4,
 "nbformat_minor": 2
}
